{
 "cells": [
  {
   "cell_type": "code",
   "execution_count": 1,
   "metadata": {},
   "outputs": [],
   "source": [
    "import numpy as np\n",
    "import pickle\n",
    "import pandas as pd\n",
    "import os\n",
    "import sacc\n",
    "import yaml\n",
    "import matplotlib.pyplot as plt\n",
    "plt.rcParams['xtick.labelsize'] = 18\n",
    "plt.rcParams['ytick.labelsize'] = 18\n",
    "plt.rcParams['axes.labelsize'] = 18\n",
    "plt.rc('legend',fontsize=18)"
   ]
  },
  {
   "cell_type": "code",
   "execution_count": 188,
   "metadata": {},
   "outputs": [],
   "source": [
    "class cl_ensemble(object):\n",
    "    def __init__(self, s, y):\n",
    "\n",
    "        # Apply scale cuts\n",
    "        self._apply_scale_cuts(s, y)\n",
    "\n",
    "        self.indices = np.array([])\n",
    "        self.data = []\n",
    "        self.ls = []\n",
    "        self.pairs = []\n",
    "        for cl in y[\"order\"]:\n",
    "            t1, t2 = cl[\"tracers\"]\n",
    "            cls = cl[\"cls\"]\n",
    "            for cl_name in cls:\n",
    "                l, c_ell, ind = s.get_ell_cl(\n",
    "                    cl_name, t1, t2,\n",
    "                    return_cov=False,\n",
    "                    return_ind=True)\n",
    "                self.indices = np.append(self.indices, ind)\n",
    "                self.data.append(c_ell)\n",
    "                self.ls.append(l)\n",
    "                self.pairs.append([t1, t2])\n",
    "        \n",
    "        self.indices = self.indices.astype(int)\n",
    "        self.cov = s.covariance.dense\n",
    "        self.cov = np.transpose(np.transpose(self.cov[self.indices])[self.indices])\n",
    "        lengths = [len(l) for l in ls]\n",
    "        self.idx  = np.cumsum(lengths)\n",
    "\n",
    "    def _apply_scale_cuts(self, s, y):\n",
    "        indices = np.array([])\n",
    "        for cl in y[\"order\"]:\n",
    "            t1, t2 = cl[\"tracers\"]\n",
    "            cls = cl[\"cls\"]\n",
    "            if \"ell_cuts\" in list(cl.keys()):\n",
    "                lmin, lmax = cl[\"ell_cuts\"]\n",
    "                for cl_name in cls:\n",
    "                    ind = s.indices(cl_name, (t1, t2),\n",
    "                                    ell__gt=lmin, ell__lt=lmax)\n",
    "                    indices = np.append(indices, ind)\n",
    "        if len(indices) != 0:\n",
    "            s.keep_indices(indices)"
   ]
  },
  {
   "cell_type": "code",
   "execution_count": 184,
   "metadata": {},
   "outputs": [],
   "source": [
    "s = sacc.Sacc.load_fits(\"/home/jaimerz/Documents/UCL/3x2_analytical/data/HSC/HSC.sacc\")\n",
    "y = yaml.load(open(\"/home/jaimerz/Documents/UCL/3x2_analytical/data/HSC/HSC.yml\"), Loader=yaml.FullLoader)"
   ]
  },
  {
   "cell_type": "code",
   "execution_count": 186,
   "metadata": {},
   "outputs": [],
   "source": [
    "clp = cl_ensemble(s,y)"
   ]
  },
  {
   "cell_type": "code",
   "execution_count": null,
   "metadata": {},
   "outputs": [],
   "source": []
  },
  {
   "cell_type": "code",
   "execution_count": 187,
   "metadata": {},
   "outputs": [
    {
     "data": {
      "text/plain": [
       "[array([3.13885302e-06]),\n",
       " array([1.27335899e-06, 6.62186345e-08, 1.86535570e-07, 1.29212841e-07,\n",
       "        6.85231731e-08, 8.18812966e-08, 4.29636455e-08, 3.20719466e-08,\n",
       "        2.49683138e-08]),\n",
       " array([3.76254307e-06, 1.09051878e-06, 6.63333745e-07]),\n",
       " array([-1.98036902e-07, -2.86472641e-08,  4.92594988e-08,  7.13284200e-09,\n",
       "        -6.18796692e-09,  1.91153803e-08, -3.11888776e-10,  7.79916394e-09,\n",
       "         5.85509259e-09]),\n",
       " array([-1.00728400e-07,  7.03081008e-08,  1.49826268e-07,  1.08073879e-07,\n",
       "         6.53308176e-08,  5.45852847e-08,  2.73642387e-08,  2.48392004e-08,\n",
       "         1.79493150e-08]),\n",
       " array([3.20874221e-06, 9.19330987e-07, 9.21940533e-07, 4.21591959e-07]),\n",
       " array([ 5.96611981e-07, -1.15606596e-07,  9.87288526e-08,  1.25113278e-08,\n",
       "         1.02126265e-08,  1.12047717e-08,  4.82084438e-09,  9.46660860e-09,\n",
       "         7.05625452e-09]),\n",
       " array([ 8.20840734e-07, -1.11429879e-09, -1.15363665e-08,  3.52345379e-08,\n",
       "         4.23179414e-08,  1.37240833e-08,  7.86231164e-09,  1.07252364e-08,\n",
       "         8.55286119e-09]),\n",
       " array([5.84384174e-07, 1.74537479e-07, 1.90530528e-07, 9.27770569e-08,\n",
       "        4.08733707e-08, 4.43487363e-08, 3.20482836e-08, 1.94291644e-08,\n",
       "        1.63585965e-08]),\n",
       " array([1.63057516e-06, 8.31061968e-07, 5.26906586e-07, 2.73278928e-07]),\n",
       " array([2.00213477e-08]),\n",
       " array([ 1.85417761e-08, -9.60813754e-10, -1.75327510e-10]),\n",
       " array([-7.04829790e-09,  8.47507556e-10,  4.93353325e-09, -6.38337022e-10]),\n",
       " array([ 2.91529407e-09, -1.21471888e-08,  2.88289069e-09,  1.90104139e-09]),\n",
       " array([9.71753959e-08]),\n",
       " array([7.00241200e-08, 1.13853527e-08, 6.91953607e-09]),\n",
       " array([-5.35425129e-09,  1.63382291e-10, -1.42559220e-09,  9.59809312e-10]),\n",
       " array([ 2.31628456e-08, -7.46450273e-09,  1.86910606e-09, -7.27279499e-10]),\n",
       " array([1.16000583e-07]),\n",
       " array([1.25008768e-07, 2.97244371e-08, 1.90018727e-08]),\n",
       " array([-7.27248488e-09,  2.18919215e-08, -9.80289524e-11,  2.48786875e-09]),\n",
       " array([ 1.43133658e-08, -6.70491249e-09,  5.30473141e-09,  6.31854964e-10]),\n",
       " array([1.39378709e-07]),\n",
       " array([1.25288230e-07, 3.91580473e-08, 2.80717138e-08]),\n",
       " array([5.29960905e-08, 2.28203512e-08, 1.98534521e-08, 5.72670771e-09]),\n",
       " array([ 3.72311966e-08, -4.37878502e-09,  7.18202795e-09,  2.21329019e-09]),\n",
       " array([8.30005932e-11, 8.41839717e-11, 9.32240891e-11, 1.14165791e-10,\n",
       "        1.05757975e-10, 5.02512060e-11]),\n",
       " array([4.39659456e-10, 1.23515731e-10, 1.46592529e-10, 2.22015085e-10,\n",
       "        8.65991526e-11, 5.93029258e-11]),\n",
       " array([8.63394010e-10, 5.60556741e-10, 4.49014762e-10, 2.61960143e-10,\n",
       "        2.12989920e-10, 8.70491804e-11]),\n",
       " array([4.76621595e-10, 4.61551254e-10, 2.33102508e-10, 1.39426893e-10,\n",
       "        1.97126097e-10, 5.95118139e-11]),\n",
       " array([1.35251392e-09, 7.25571118e-10, 4.87398963e-10, 4.69417118e-10,\n",
       "        2.61023869e-10, 2.21409000e-10]),\n",
       " array([1.77382429e-09, 1.05746342e-09, 6.88681105e-10, 6.38728763e-10,\n",
       "        3.91792637e-10, 3.68172590e-10]),\n",
       " array([3.95512682e-10, 3.18642597e-10, 3.17071977e-10, 1.57827054e-10,\n",
       "        1.33038926e-10, 7.65744421e-11]),\n",
       " array([1.08219623e-09, 1.05793932e-09, 4.88223949e-10, 4.64294746e-10,\n",
       "        2.70326747e-10, 1.60340356e-10]),\n",
       " array([2.17510611e-09, 1.50419028e-09, 9.37195225e-10, 6.75201224e-10,\n",
       "        4.69737344e-10, 3.51520946e-10]),\n",
       " array([2.23061976e-09, 1.87344821e-09, 1.10458913e-09, 9.88813581e-10,\n",
       "        4.98682536e-10, 4.92663028e-10])]"
      ]
     },
     "execution_count": 187,
     "metadata": {},
     "output_type": "execute_result"
    }
   ],
   "source": [
    "clp.data"
   ]
  },
  {
   "cell_type": "code",
   "execution_count": 85,
   "metadata": {},
   "outputs": [],
   "source": [
    "idx = [int(i) for i in data['indices']]"
   ]
  },
  {
   "cell_type": "code",
   "execution_count": 88,
   "metadata": {},
   "outputs": [
    {
     "data": {
      "text/plain": [
       "array([[ 9.07281942e-13,  5.15640550e-15, -8.29379528e-16, ...,\n",
       "         1.29721605e-18,  9.21858365e-19,  6.08214308e-19],\n",
       "       [ 5.15640550e-15,  3.36246729e-13, -5.41601729e-14, ...,\n",
       "        -7.49892440e-20, -5.58193880e-20, -3.71468259e-20],\n",
       "       [-8.29379528e-16, -5.41601729e-14,  5.11761603e-14, ...,\n",
       "        -5.16969455e-21, -2.12266339e-21, -1.88700305e-21],\n",
       "       ...,\n",
       "       [ 1.29721605e-18, -7.49892440e-20, -5.16969455e-21, ...,\n",
       "         4.65029377e-20, -9.39606370e-22,  4.55151768e-22],\n",
       "       [ 9.21858365e-19, -5.58193880e-20, -2.12266339e-21, ...,\n",
       "        -9.39606370e-22,  1.46968255e-20, -3.09552714e-22],\n",
       "       [ 6.08214308e-19, -3.71468259e-20, -1.88700305e-21, ...,\n",
       "         4.55151768e-22, -3.09552714e-22,  1.00306380e-20]], dtype='>f8')"
      ]
     },
     "execution_count": 88,
     "metadata": {},
     "output_type": "execute_result"
    }
   ],
   "source": [
    "cov = s.covariance.dense\n",
    "cov = np.transpose(np.transpose(cov[idx])[idx])\n",
    "cov"
   ]
  },
  {
   "cell_type": "code",
   "execution_count": null,
   "metadata": {},
   "outputs": [],
   "source": []
  }
 ],
 "metadata": {
  "kernelspec": {
   "display_name": "tutorials",
   "language": "python",
   "name": "python3"
  },
  "language_info": {
   "codemirror_mode": {
    "name": "ipython",
    "version": 3
   },
   "file_extension": ".py",
   "mimetype": "text/x-python",
   "name": "python",
   "nbconvert_exporter": "python",
   "pygments_lexer": "ipython3",
   "version": "3.9.17"
  }
 },
 "nbformat": 4,
 "nbformat_minor": 2
}
