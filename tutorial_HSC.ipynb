{
 "cells": [
  {
   "cell_type": "code",
   "execution_count": 1,
   "metadata": {},
   "outputs": [],
   "source": [
    "import sys\n",
    "import numpy as np\n",
    "import sacc\n",
    "import yaml\n",
    "sys.path.insert(1, '/home/jaimerz/Documents/UCL/pacc')\n",
    "import pacc"
   ]
  },
  {
   "cell_type": "code",
   "execution_count": 2,
   "metadata": {},
   "outputs": [],
   "source": [
    "s = sacc.Sacc.load_fits(\"/home/jaimerz/Documents/UCL/3x2_analytical/data/HSC/HSC.sacc\")\n",
    "y = yaml.load(open(\"/home/jaimerz/Documents/UCL/3x2_analytical/data/HSC/HSC.yml\"), Loader=yaml.FullLoader)"
   ]
  },
  {
   "cell_type": "code",
   "execution_count": 15,
   "metadata": {},
   "outputs": [],
   "source": [
    "cle = pacc.ClsEnsemble(s,y)"
   ]
  },
  {
   "cell_type": "code",
   "execution_count": 12,
   "metadata": {},
   "outputs": [],
   "source": [
    "errs = np.sqrt(np.diag(cle.cov))"
   ]
  },
  {
   "cell_type": "code",
   "execution_count": 14,
   "metadata": {},
   "outputs": [
    {
     "data": {
      "text/plain": [
       "[array([9.52513486e-07]),\n",
       " array([5.79867854e-07, 2.26221485e-07, 1.10280282e-07, 3.65058402e-08,\n",
       "        2.01316062e-08, 1.33101128e-08, 5.75607984e-09, 3.62345932e-09,\n",
       "        2.43794702e-09]),\n",
       " array([7.09655389e-07, 2.80245384e-07, 1.34893730e-07]),\n",
       " array([4.91887870e-07, 1.97189551e-07, 9.71335864e-08, 3.18927869e-08,\n",
       "        1.71849722e-08, 1.11391315e-08, 4.74039860e-09, 2.96223980e-09,\n",
       "        2.00328384e-09]),\n",
       " array([4.25070540e-07, 1.72288914e-07, 8.35765656e-08, 2.65687554e-08,\n",
       "        1.38359182e-08, 8.82820039e-09, 3.74882376e-09, 2.37130179e-09,\n",
       "        1.63529822e-09]),\n",
       " array([5.10636145e-07, 2.12753663e-07, 1.04287913e-07, 3.30730621e-08]),\n",
       " array([3.07329055e-07, 1.27834814e-07, 6.47753312e-08, 2.14151581e-08,\n",
       "        1.16040593e-08, 7.53238738e-09, 3.21831773e-09, 2.03638796e-09,\n",
       "        1.40682530e-09]),\n",
       " array([2.65619970e-07, 1.11722618e-07, 5.57279390e-08, 1.78381276e-08,\n",
       "        9.34211968e-09, 5.96945066e-09, 2.54488653e-09, 1.63002574e-09,\n",
       "        1.14838505e-09]),\n",
       " array([2.25505345e-07, 9.75227882e-08, 4.90920840e-08, 1.55882516e-08,\n",
       "        7.97750475e-09, 4.99723545e-09, 2.09718943e-09, 1.33375480e-09,\n",
       "        9.44863320e-10]),\n",
       " array([1.99424314e-07, 8.96045039e-08, 4.63521670e-08, 1.48457206e-08]),\n",
       " array([1.616503e-08]),\n",
       " array([1.33741963e-08, 6.54028469e-09, 4.01940806e-09]),\n",
       " array([1.13713059e-08, 5.72982584e-09, 3.54273270e-09, 1.43892457e-09]),\n",
       " array([7.12019971e-09, 3.73648567e-09, 2.36596123e-09, 9.66759262e-10]),\n",
       " array([2.267822e-08]),\n",
       " array([1.74755246e-08, 7.87771489e-09, 4.60734163e-09]),\n",
       " array([1.44587369e-08, 6.77454143e-09, 4.00735934e-09, 1.57791088e-09]),\n",
       " array([9.04826903e-09, 4.41471180e-09, 2.67566001e-09, 1.06003587e-09]),\n",
       " array([2.93163136e-08]),\n",
       " array([2.38542983e-08, 1.03075151e-08, 5.83221151e-09]),\n",
       " array([1.89450340e-08, 8.59518941e-09, 4.95089142e-09, 1.91275365e-09]),\n",
       " array([1.16793300e-08, 5.53971924e-09, 3.27928163e-09, 1.27640209e-09]),\n",
       " array([3.68810634e-08]),\n",
       " array([3.11051468e-08, 1.36354216e-08, 7.78434676e-09]),\n",
       " array([2.52788388e-08, 1.15747912e-08, 6.69941240e-09, 2.60144287e-09]),\n",
       " array([1.52748069e-08, 7.35763445e-09, 4.39349570e-09, 1.72213340e-09]),\n",
       " array([2.15948845e-10, 1.10263843e-10, 8.75881788e-11, 7.45711399e-11,\n",
       "        4.29770862e-11, 3.61029123e-11]),\n",
       " array([1.76878008e-10, 8.73128272e-11, 6.70668629e-11, 5.59092203e-11,\n",
       "        3.16205555e-11, 2.61310701e-11]),\n",
       " array([2.76379998e-10, 1.33585733e-10, 1.01421195e-10, 8.39532207e-11,\n",
       "        4.73736056e-11, 3.88013900e-11]),\n",
       " array([2.14806922e-10, 1.04016840e-10, 7.92297440e-11, 6.57619865e-11,\n",
       "        3.69816457e-11, 3.04864724e-11]),\n",
       " array([2.54419783e-10, 1.18835377e-10, 8.76733969e-11, 7.13795118e-11,\n",
       "        3.99157581e-11, 3.22704179e-11]),\n",
       " array([4.12369277e-10, 1.91750580e-10, 1.42455365e-10, 1.16621388e-10,\n",
       "        6.51439623e-11, 5.30004285e-11]),\n",
       " array([2.83309691e-10, 1.37824505e-10, 1.06299434e-10, 8.90416704e-11,\n",
       "        5.02847915e-11, 4.18709996e-11]),\n",
       " array([3.31604227e-10, 1.55595773e-10, 1.16446459e-10, 9.58189704e-11,\n",
       "        5.36488932e-11, 4.39394168e-11]),\n",
       " array([4.15115084e-10, 1.89464643e-10, 1.39408373e-10, 1.13763419e-10,\n",
       "        6.33712108e-11, 5.16334190e-11]),\n",
       " array([7.32860994e-10, 3.43891436e-10, 2.59929549e-10, 2.15645398e-10,\n",
       "        1.21230465e-10, 1.00153073e-10])]"
      ]
     },
     "execution_count": 14,
     "metadata": {},
     "output_type": "execute_result"
    }
   ],
   "source": [
    "seg_errs = [errs[ind] for ind in cle.indices]\n",
    "seg_errs"
   ]
  },
  {
   "cell_type": "code",
   "execution_count": 4,
   "metadata": {},
   "outputs": [
    {
     "data": {
      "text/plain": [
       "[array([0]),\n",
       " array([1, 2, 3, 4, 5, 6, 7, 8, 9]),\n",
       " array([10, 11, 12]),\n",
       " array([13, 14, 15, 16, 17, 18, 19, 20, 21]),\n",
       " array([22, 23, 24, 25, 26, 27, 28, 29, 30]),\n",
       " array([31, 32, 33, 34]),\n",
       " array([35, 36, 37, 38, 39, 40, 41, 42, 43]),\n",
       " array([44, 45, 46, 47, 48, 49, 50, 51, 52]),\n",
       " array([53, 54, 55, 56, 57, 58, 59, 60, 61]),\n",
       " array([62, 63, 64, 65]),\n",
       " array([210]),\n",
       " array([211, 212, 213]),\n",
       " array([214, 215, 216, 217]),\n",
       " array([218, 219, 220, 221]),\n",
       " array([222]),\n",
       " array([223, 224, 225]),\n",
       " array([226, 227, 228, 229]),\n",
       " array([230, 231, 232, 233]),\n",
       " array([234]),\n",
       " array([235, 236, 237]),\n",
       " array([238, 239, 240, 241]),\n",
       " array([242, 243, 244, 245]),\n",
       " array([246]),\n",
       " array([247, 248, 249]),\n",
       " array([250, 251, 252, 253]),\n",
       " array([254, 255, 256, 257]),\n",
       " array([528, 529, 530, 531, 532, 533]),\n",
       " array([534, 535, 536, 537, 538, 539]),\n",
       " array([540, 541, 542, 543, 544, 545]),\n",
       " array([546, 547, 548, 549, 550, 551]),\n",
       " array([552, 553, 554, 555, 556, 557]),\n",
       " array([558, 559, 560, 561, 562, 563]),\n",
       " array([564, 565, 566, 567, 568, 569]),\n",
       " array([570, 571, 572, 573, 574, 575]),\n",
       " array([576, 577, 578, 579, 580, 581]),\n",
       " array([582, 583, 584, 585, 586, 587])]"
      ]
     },
     "execution_count": 4,
     "metadata": {},
     "output_type": "execute_result"
    }
   ],
   "source": [
    "cle.indices"
   ]
  },
  {
   "cell_type": "code",
   "execution_count": null,
   "metadata": {},
   "outputs": [],
   "source": [
    "pacc.plot_cls([cle], [['lens_0', 'lens_0'],\n",
    "              ['lens_1', 'lens_1'],\n",
    "              ['lens_2', 'lens_2'], \n",
    "              ['lens_3', 'lens_3']])"
   ]
  },
  {
   "cell_type": "code",
   "execution_count": null,
   "metadata": {},
   "outputs": [],
   "source": [
    "pacc.plot_cls([cle, cle], cle.pairs[:10])"
   ]
  },
  {
   "cell_type": "code",
   "execution_count": null,
   "metadata": {},
   "outputs": [],
   "source": [
    "import matplotlib.pyplot as plt\n",
    "plt.rcParams['xtick.labelsize'] = 12\n",
    "plt.rcParams['ytick.labelsize'] = 12\n",
    "plt.rcParams['axes.labelsize'] = 12"
   ]
  },
  {
   "cell_type": "code",
   "execution_count": null,
   "metadata": {},
   "outputs": [],
   "source": [
    "wanted_pairs = [['lens_0', 'lens_0'],\n",
    "              ['lens_1', 'lens_1'],\n",
    "              ['lens_2', 'lens_2'], \n",
    "              ['lens_3', 'lens_3']]"
   ]
  },
  {
   "cell_type": "code",
   "execution_count": null,
   "metadata": {},
   "outputs": [],
   "source": [
    "proposed_covs = []\n",
    "for i, pair1 in enumerate(wanted_pairs):\n",
    "    for j, pair2 in enumerate(wanted_pairs):\n",
    "        cov = []\n",
    "        cov.append(pair1)\n",
    "        cov.append(pair2)\n",
    "        proposed_covs.append(cov)\n",
    "proposed_covs"
   ]
  },
  {
   "cell_type": "code",
   "execution_count": null,
   "metadata": {},
   "outputs": [],
   "source": [
    "cle.indices"
   ]
  },
  {
   "cell_type": "code",
   "execution_count": null,
   "metadata": {},
   "outputs": [],
   "source": [
    "t1 = np.transpose(cle.pairs)[0]\n",
    "t2 = np.transpose(cle.pairs)[1]"
   ]
  },
  {
   "cell_type": "code",
   "execution_count": null,
   "metadata": {},
   "outputs": [],
   "source": [
    "len(cle.pairs)"
   ]
  },
  {
   "cell_type": "code",
   "execution_count": null,
   "metadata": {},
   "outputs": [],
   "source": [
    "ps = [cle.pairs.index(pair) for pair in cle.pairs]\n",
    "cle.edges[ps]"
   ]
  },
  {
   "cell_type": "code",
   "execution_count": null,
   "metadata": {},
   "outputs": [],
   "source": [
    "cl_names = []\n",
    "for pair in cle.pairs:\n",
    "    cl_names.append(pair[0] + ' x ' + pair[1])\n",
    "cl_names"
   ]
  },
  {
   "cell_type": "code",
   "execution_count": null,
   "metadata": {},
   "outputs": [],
   "source": [
    "\n",
    "plt.figure(figsize = (20,20))\n",
    "plt.imshow(np.log10(np.abs(cle.cov)))\n",
    "plt.xticks(cle.edges[:-1], cl_names, rotation=90)\n",
    "plt.yticks(cle.edges[:-1], cl_names)\n",
    "plt.show()"
   ]
  },
  {
   "cell_type": "code",
   "execution_count": null,
   "metadata": {},
   "outputs": [],
   "source": [
    "cle.edges"
   ]
  },
  {
   "cell_type": "code",
   "execution_count": null,
   "metadata": {},
   "outputs": [],
   "source": [
    "pl"
   ]
  }
 ],
 "metadata": {
  "kernelspec": {
   "display_name": "tutorials",
   "language": "python",
   "name": "python3"
  },
  "language_info": {
   "codemirror_mode": {
    "name": "ipython",
    "version": 3
   },
   "file_extension": ".py",
   "mimetype": "text/x-python",
   "name": "python",
   "nbconvert_exporter": "python",
   "pygments_lexer": "ipython3",
   "version": "3.9.17"
  }
 },
 "nbformat": 4,
 "nbformat_minor": 2
}
